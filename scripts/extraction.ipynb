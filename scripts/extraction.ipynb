{
 "cells": [
  {
   "cell_type": "code",
   "execution_count": 17,
   "id": "a2eb0637",
   "metadata": {},
   "outputs": [
    {
     "name": "stdout",
     "output_type": "stream",
     "text": [
      "Saved imports data for 2020\n",
      "Saved imports data for 2021\n",
      "Saved imports data for 2022\n",
      "Saved imports data for 2023\n",
      "Saved imports data for 2024\n",
      "Saved exports data for 2020\n",
      "Saved exports data for 2021\n",
      "Saved exports data for 2022\n",
      "Saved exports data for 2023\n",
      "Saved exports data for 2024\n"
     ]
    }
   ],
   "source": [
    "import requests, json, time, os\n",
    "\n",
    "def fetch_uncomtrade_data(flow_code, flow_name, start_year=2020, end_year=2024):\n",
    "    headers = {\n",
    "        \"Ocp-Apim-Subscription-Key\": \"0111bba81dba4693a82c31dcb7c4490a\"\n",
    "    }\n",
    "\n",
    "    os.makedirs(\"raw_data\", exist_ok=True)\n",
    "\n",
    "    for year in range(start_year, end_year + 1):\n",
    "        url = \"https://comtradeapi.un.org/data/v1/get/C/A/HS\"\n",
    "        params = {\n",
    "            \"reporterCode\": \"818\",      \n",
    "            \"period\": year,\n",
    "            \"cmdCode\": \"ALL\",\n",
    "            \"flowCode\": flow_code,      \n",
    "            \"includeDesc\": \"true\"\n",
    "        }\n",
    "\n",
    "        response = requests.get(url, headers=headers, params=params)\n",
    "        data = response.json()\n",
    "\n",
    "        filtered_data = [\n",
    "            {\n",
    "                \"Year\": item[\"refYear\"],\n",
    "                \"Flow_Description\": item[\"flowDesc\"],\n",
    "                \"Partner_Code\": item[\"partnerCode\"],\n",
    "                \"Partner_ISO\": item[\"partnerISO\"],\n",
    "                \"Partner_Country\": item[\"partnerDesc\"],\n",
    "                \"Traded_Commodities\": item[\"cmdDesc\"],\n",
    "                \"Trade_Value\": item[\"primaryValue\"],\n",
    "                \"WeightofTradedGoods\": item.get(\"grossWgt\")\n",
    "            }\n",
    "            for item in data[\"data\"]\n",
    "        ]\n",
    "\n",
    "        output_path = f\"raw_data/uncomtrade_{flow_name}_{year}.json\"\n",
    "        with open(output_path, \"w\") as f:\n",
    "            json.dump(filtered_data, f, indent=2)\n",
    "\n",
    "        print(f\"Saved {flow_name} data for {year}\")\n",
    "        time.sleep(2)\n",
    "\n",
    "fetch_uncomtrade_data(\"M\", \"imports\", 2020, 2024)\n",
    "fetch_uncomtrade_data(\"X\", \"exports\", 2020, 2024)"
   ]
  },
  {
   "cell_type": "code",
   "execution_count": 20,
   "id": "f9791008",
   "metadata": {},
   "outputs": [
    {
     "name": "stdout",
     "output_type": "stream",
     "text": [
      "World Bank data saved successfully to raw_data/worldbank_indicators_2020-2024.json\n"
     ]
    }
   ],
   "source": [
    "def fetch_worldbank_data(start_year=2020, end_year=2024):\n",
    "    os.makedirs(\"raw_data\", exist_ok=True)\n",
    "    url = \"https://data360api.worldbank.org/data360/data?DATABASE_ID=WB_WDI&INDICATOR=WB_WDI_NY_GDP_MKTP_CD,WB_WDI_NY_GDP_MKTP_KD_ZG,WB_WDI_FP_CPI_TOTL_ZG,WB_WDI_NE_EXP_GNFS_ZS,WB_WDI_NE_IMP_GNFS_ZS,WB_WDI_DT_DOD_DECT_GN_ZS,WB_WDI_FI_RES_TOTL_MO&REF_AREA=EGY&skip=0\"\n",
    "    response = requests.get(url)\n",
    "    data = response.json()\n",
    "\n",
    "    filtered_data = [\n",
    "        {\n",
    "            \"Year\": item[\"TIME_PERIOD\"],\n",
    "            \"Indicator_Code\": item[\"INDICATOR\"],\n",
    "            \"Indicator_Value\": item[\"OBS_VALUE\"],\n",
    "            \"Description\": item[\"COMMENT_TS\"]\n",
    "        }\n",
    "        for item in data[\"value\"]\n",
    "        if start_year <= int(item[\"TIME_PERIOD\"]) <= end_year\n",
    "    ]\n",
    "\n",
    "    output_path = \"raw_data/worldbank_indicators_2020-2024.json\"\n",
    "    with open(output_path, \"w\") as f:\n",
    "        json.dump(filtered_data, f, indent=2)\n",
    "\n",
    "    print(f\"World Bank data saved successfully to {output_path}\")\n",
    "\n",
    "fetch_worldbank_data()\n"
   ]
  },
  {
   "cell_type": "code",
   "execution_count": null,
   "id": "01e20776",
   "metadata": {},
   "outputs": [],
   "source": []
  }
 ],
 "metadata": {
  "kernelspec": {
   "display_name": "CAI_S2",
   "language": "python",
   "name": "python3"
  },
  "language_info": {
   "codemirror_mode": {
    "name": "ipython",
    "version": 3
   },
   "file_extension": ".py",
   "mimetype": "text/x-python",
   "name": "python",
   "nbconvert_exporter": "python",
   "pygments_lexer": "ipython3",
   "version": "3.13.5"
  }
 },
 "nbformat": 4,
 "nbformat_minor": 5
}
